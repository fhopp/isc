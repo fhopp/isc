{
 "cells": [
  {
   "cell_type": "markdown",
   "metadata": {},
   "source": [
    "# Shen_ISC Analysis"
   ]
  },
  {
   "cell_type": "code",
   "execution_count": 1,
   "metadata": {},
   "outputs": [
    {
     "name": "stderr",
     "output_type": "stream",
     "text": [
      "/usr/local/anaconda3/envs/fmri/lib/python3.6/importlib/_bootstrap.py:219: ImportWarning: can't resolve package from __spec__ or __package__, falling back on __name__ and __path__\n",
      "  return f(*args, **kwds)\n"
     ]
    }
   ],
   "source": [
    "# Import functions helpful for managing file paths\n",
    "import glob\n",
    "from os.path import join\n",
    "from brainiak.isc import (isc, isfc, bootstrap_isc, permutation_isc,\n",
    "                          timeshift_isc, phaseshift_isc,\n",
    "                          compute_summary_statistic)\n",
    "from brainiak.io import load_boolean_mask, load_images\n",
    "from brainiak.image import mask_images, MaskedMultiSubjectData\n",
    "import nibabel as nib\n",
    "import numpy as np\n",
    "import pandas as pd\n",
    "\n",
    "from scipy.stats import norm, pearsonr, zscore\n",
    "from nilearn import image\n",
    "from nilearn.image import index_img\n",
    "import nibabel"
   ]
  },
  {
   "cell_type": "markdown",
   "metadata": {},
   "source": [
    "Extract ROIs according to the `Shen Atlas`"
   ]
  },
  {
   "cell_type": "code",
   "execution_count": 2,
   "metadata": {},
   "outputs": [],
   "source": [
    "shen = '/home/fhopp/Downloads/shenetal_neuroimage2013/fconn_atlas_150_2mm.nii'"
   ]
  },
  {
   "cell_type": "code",
   "execution_count": 3,
   "metadata": {},
   "outputs": [],
   "source": [
    "from nilearn.input_data import NiftiLabelsMasker"
   ]
  },
  {
   "cell_type": "code",
   "execution_count": 4,
   "metadata": {},
   "outputs": [],
   "source": [
    "# Extract signals on a parcellation defined by labels\n",
    "# Atlas will be resampled to functional space (=mask_img)\n",
    "masker = NiftiLabelsMasker(labels_img=shen, mask_img='isc_functional_mask.nii.gz', \n",
    "                           resampling_target='data', memory='nilearn_cache', verbose=5)"
   ]
  },
  {
   "cell_type": "markdown",
   "metadata": {},
   "source": [
    "Feed in a few of the `functional runs`"
   ]
  },
  {
   "cell_type": "code",
   "execution_count": 5,
   "metadata": {},
   "outputs": [
    {
     "name": "stdout",
     "output_type": "stream",
     "text": [
      "[NiftiLabelsMasker.fit_transform] loading data from /home/fhopp/Downloads/shenetal_neuroimage2013/fconn_atlas_150_2mm.nii\n",
      "[NiftiLabelsMasker.fit_transform] loading data from isc_functional_mask.nii.gz\n"
     ]
    },
    {
     "name": "stderr",
     "output_type": "stream",
     "text": [
      "/usr/local/anaconda3/envs/fmri/lib/python3.6/site-packages/nibabel/nifti1.py:582: DeprecationWarning: The binary mode of fromstring is deprecated, as it behaves surprisingly on unicode inputs. Use frombuffer instead\n",
      "  ext_def = np.fromstring(ext_def, dtype=np.int32)\n"
     ]
    },
    {
     "name": "stdout",
     "output_type": "stream",
     "text": [
      "Resampling labels\n",
      "[Memory]    0.1s, 0.0min: Loading filter_and_extract...\n",
      "__________________________________filter_and_extract cache loaded - 0.0s, 0.0min\n",
      "[NiftiLabelsMasker.fit_transform] loading data from /home/fhopp/Downloads/shenetal_neuroimage2013/fconn_atlas_150_2mm.nii\n",
      "[NiftiLabelsMasker.fit_transform] loading data from isc_functional_mask.nii.gz\n"
     ]
    },
    {
     "name": "stderr",
     "output_type": "stream",
     "text": [
      "/usr/local/anaconda3/envs/fmri/lib/python3.6/site-packages/nibabel/nifti1.py:582: DeprecationWarning: The binary mode of fromstring is deprecated, as it behaves surprisingly on unicode inputs. Use frombuffer instead\n",
      "  ext_def = np.fromstring(ext_def, dtype=np.int32)\n"
     ]
    },
    {
     "name": "stdout",
     "output_type": "stream",
     "text": [
      "[Memory]    3.3s, 0.1min: Loading filter_and_extract...\n",
      "__________________________________filter_and_extract cache loaded - 0.0s, 0.0min\n",
      "[NiftiLabelsMasker.fit_transform] loading data from /home/fhopp/Downloads/shenetal_neuroimage2013/fconn_atlas_150_2mm.nii\n",
      "[NiftiLabelsMasker.fit_transform] loading data from isc_functional_mask.nii.gz\n",
      "________________________________________________________________________________\n",
      "[Memory] Calling nilearn.input_data.base_masker.filter_and_extract...\n",
      "filter_and_extract('/srv/lab/fmri/mft/dicom4bids/bids_nii/derivatives/isc/sub-49/first,_do_no_harm_harm_bold.nii.gz', \n",
      "<nilearn.input_data.nifti_labels_masker._ExtractionFunctor object at 0x7f8d79a188d0>, \n",
      "{ 'background_label': 0,\n",
      "  'detrend': False,\n",
      "  'dtype': None,\n",
      "  'high_pass': None,\n",
      "  'labels_img': '/home/fhopp/Downloads/shenetal_neuroimage2013/fconn_atlas_150_2mm.nii',\n",
      "  'low_pass': None,\n",
      "  'mask_img': 'isc_functional_mask.nii.gz',\n",
      "  'smoothing_fwhm': None,\n",
      "  'standardize': False,\n",
      "  't_r': None,\n",
      "  'target_affine': None,\n",
      "  'target_shape': None}, confounds=None, dtype=None, memory=Memory(cachedir='nilearn_cache/joblib'), memory_level=1, verbose=5)\n",
      "[NiftiLabelsMasker.transform_single_imgs] Loading data from /srv/lab/fmri/mft/dicom4bids/bids_nii/derivatives/isc/sub-49/first,_do_no_harm_harm_bold.nii.gz\n",
      "[NiftiLabelsMasker.transform_single_imgs] Extracting region signals\n"
     ]
    },
    {
     "name": "stderr",
     "output_type": "stream",
     "text": [
      "/usr/local/anaconda3/envs/fmri/lib/python3.6/importlib/_bootstrap.py:219: ImportWarning: can't resolve package from __spec__ or __package__, falling back on __name__ and __path__\n",
      "  return f(*args, **kwds)\n"
     ]
    },
    {
     "name": "stdout",
     "output_type": "stream",
     "text": [
      "[NiftiLabelsMasker.transform_single_imgs] Cleaning extracted signals\n",
      "_______________________________________________filter_and_extract - 5.7s, 0.1min\n",
      "[NiftiLabelsMasker.fit_transform] loading data from /home/fhopp/Downloads/shenetal_neuroimage2013/fconn_atlas_150_2mm.nii\n",
      "[NiftiLabelsMasker.fit_transform] loading data from isc_functional_mask.nii.gz\n",
      "[Memory]   14.9s, 0.2min: Loading filter_and_extract...\n",
      "__________________________________filter_and_extract cache loaded - 0.0s, 0.0min\n",
      "[NiftiLabelsMasker.fit_transform] loading data from /home/fhopp/Downloads/shenetal_neuroimage2013/fconn_atlas_150_2mm.nii\n",
      "[NiftiLabelsMasker.fit_transform] loading data from isc_functional_mask.nii.gz\n",
      "[Memory]   17.8s, 0.3min: Loading filter_and_extract...\n",
      "__________________________________filter_and_extract cache loaded - 0.0s, 0.0min\n"
     ]
    }
   ],
   "source": [
    "func_fns = glob.glob('/srv/lab/fmri/mft/dicom4bids/bids_nii/derivatives/isc/*/first,_do_no_harm_harm_bold.nii.gz')[:5]\n",
    "\n",
    "#Make a list to store files that could not be transformed\n",
    "problems = []\n",
    "\n",
    "# Keep even subject and odd subject numbers separated as they received different conditions\n",
    "even_time_series = []\n",
    "odd_time_series = []\n",
    "for f in func_fns:\n",
    "    sub = int(f.split('/')[-2].split('-')[-1])\n",
    "    if sub % 2 == True:\n",
    "#         try:\n",
    "            # This is where I apply the above masker to obtain an average activation per ROI\n",
    "            odd_time_series.append(masker.fit_transform(f))\n",
    "#         except:\n",
    "            problems.append(f)\n",
    "    else:\n",
    "        try:\n",
    "            # This is where I apply the above masker to obtain an average activation per ROI\n",
    "            even_time_series.append(masker.fit_transform(f))\n",
    "        except:\n",
    "            problems.append(f)"
   ]
  },
  {
   "cell_type": "markdown",
   "metadata": {},
   "source": [
    "Check the shape of a single subject time-series"
   ]
  },
  {
   "cell_type": "code",
   "execution_count": 6,
   "metadata": {},
   "outputs": [
    {
     "data": {
      "text/plain": [
       "array([[6223.7817, 6087.0635, 2881.6965, ..., 6937.89  , 4914.83  ,\n",
       "        5575.81  ],\n",
       "       [6238.673 , 6118.927 , 2876.7979, ..., 6943.664 , 4920.918 ,\n",
       "        5587.7163],\n",
       "       [6230.9263, 6096.851 , 2880.4578, ..., 6927.4067, 4944.602 ,\n",
       "        5571.0503],\n",
       "       ...,\n",
       "       [6241.7974, 6045.5737, 2868.3267, ..., 6921.1934, 4924.575 ,\n",
       "        5587.8237],\n",
       "       [6247.1836, 6072.7354, 2883.393 , ..., 6919.247 , 4910.65  ,\n",
       "        5587.305 ],\n",
       "       [6227.213 , 6063.65  , 2877.8274, ..., 6904.558 , 4932.133 ,\n",
       "        5576.901 ]], dtype=float32)"
      ]
     },
     "execution_count": 6,
     "metadata": {},
     "output_type": "execute_result"
    }
   ],
   "source": [
    "even_time_series[0]"
   ]
  },
  {
   "cell_type": "code",
   "execution_count": 7,
   "metadata": {},
   "outputs": [
    {
     "data": {
      "text/plain": [
       "(32, 278)"
      ]
     },
     "execution_count": 7,
     "metadata": {},
     "output_type": "execute_result"
    }
   ],
   "source": [
    "even_time_series[0].shape"
   ]
  },
  {
   "cell_type": "markdown",
   "metadata": {},
   "source": [
    "So, 32 `TRs` and 278 averaged signals per `ROI` "
   ]
  },
  {
   "cell_type": "markdown",
   "metadata": {},
   "source": [
    "### ISC Analysis"
   ]
  },
  {
   "cell_type": "markdown",
   "metadata": {},
   "source": [
    "The following steps for calculating the ISCs are adpated from the `isc_tutorial`.\n",
    "\n",
    "First, I stack all the time series together:"
   ]
  },
  {
   "cell_type": "code",
   "execution_count": 8,
   "metadata": {},
   "outputs": [],
   "source": [
    "# Stack numpy arrays to yield a n_TRs by n_voxels (ROIs) by n_subjects array\n",
    "orig_data = np.stack(even_time_series, axis=2)"
   ]
  },
  {
   "cell_type": "code",
   "execution_count": 9,
   "metadata": {},
   "outputs": [
    {
     "name": "stdout",
     "output_type": "stream",
     "text": [
      "Original fMRI data shape: (32, 278, 3) \n",
      "i.e., 32 time points, 278 ROIs, 3 subjects\n"
     ]
    }
   ],
   "source": [
    "# Check shape and z-score\n",
    "print(f\"Original fMRI data shape: {orig_data.shape} \"\n",
    "      f\"\\ni.e., {orig_data.shape[0]} time points, {orig_data.shape[1]} ROIs, \"\n",
    "      f\"{orig_data.shape[2]} subjects\")\n",
    "\n",
    "# Z-score time series for each voxel\n",
    "data = zscore(orig_data, axis=0)"
   ]
  },
  {
   "cell_type": "code",
   "execution_count": 10,
   "metadata": {},
   "outputs": [
    {
     "name": "stdout",
     "output_type": "stream",
     "text": [
      "ISC values shape = (3, 278) \n",
      "i.e., 3 left-out subjects and 278 voxel(s)\n"
     ]
    }
   ],
   "source": [
    "# Leave-one-out approach\n",
    "iscs = isc(data, pairwise=False, tolerate_nans=.8)\n",
    "\n",
    "\n",
    "# Check shape of output ISC values\n",
    "print(f\"ISC values shape = {iscs.shape} \\ni.e., {iscs.shape[0]} \"\n",
    "      f\"left-out subjects and {iscs.shape[1]} voxel(s)\")"
   ]
  },
  {
   "cell_type": "code",
   "execution_count": 11,
   "metadata": {},
   "outputs": [
    {
     "name": "stdout",
     "output_type": "stream",
     "text": [
      "ISC values shape = (278,) \n",
      "i.e., 278 mean value across left-out subjects and 278 voxel(s)\n",
      "Minimum mean ISC across voxels = -0.662; maximum mean ISC across voxels = 0.642\n"
     ]
    }
   ],
   "source": [
    "# Compute mean ISC (with Fisher transformation)\n",
    "mean_iscs = compute_summary_statistic(iscs, summary_statistic='mean', axis=0)\n",
    "\n",
    "print(f\"ISC values shape = {mean_iscs.shape} \\ni.e., {mean_iscs.shape[0]} \"\n",
    "      f\"mean value across left-out subjects and {iscs.shape[1]} voxel(s)\"\n",
    "      f\"\\nMinimum mean ISC across voxels = {np.nanmin(mean_iscs):.3f}; \"\n",
    "      f\"maximum mean ISC across voxels = {np.nanmax(mean_iscs):.3f}\")"
   ]
  },
  {
   "cell_type": "code",
   "execution_count": 12,
   "metadata": {},
   "outputs": [],
   "source": [
    "# Run bootstrap hypothesis test on ISCs\n",
    "observed, ci, p, distribution = bootstrap_isc(iscs, pairwise=False,\n",
    "                                              ci_percentile=95,\n",
    "                                              summary_statistic='median',\n",
    "                                              n_bootstraps=1000)"
   ]
  },
  {
   "cell_type": "code",
   "execution_count": 14,
   "metadata": {},
   "outputs": [
    {
     "name": "stdout",
     "output_type": "stream",
     "text": [
      "0 ROIs out of 278 are NaNs (0.00%)\n"
     ]
    }
   ],
   "source": [
    "# Get number of NaN ROIs (i.e., ROIs in which there where no signficant ISCs)\n",
    "n_nans = np.sum(np.isnan(observed))\n",
    "print(f\"{n_nans} ROIs out of {observed.shape[0]} are NaNs \"\n",
    "      f\"({n_nans / observed.shape[0] * 100:.2f}%)\")\n",
    "\n",
    "# Get ROIs without NaNs\n",
    "nonnan_mask = ~np.isnan(observed)\n",
    "nonnan_coords = np.where(nonnan_mask)\n",
    "\n",
    "# Mask both the ISC and p-value map to exclude NaNs\n",
    "nonnan_isc = observed[nonnan_mask]\n",
    "nonnan_p = p[nonnan_mask]"
   ]
  },
  {
   "cell_type": "code",
   "execution_count": 15,
   "metadata": {},
   "outputs": [],
   "source": [
    "from statsmodels.stats.multitest import multipletests"
   ]
  },
  {
   "cell_type": "code",
   "execution_count": 16,
   "metadata": {},
   "outputs": [
    {
     "name": "stdout",
     "output_type": "stream",
     "text": [
      "100 significant regions controlling FDR at 0.05\n"
     ]
    }
   ],
   "source": [
    "# Get FDR-controlled q-values\n",
    "nonnan_q = multipletests(nonnan_p, method='fdr_by')[1]\n",
    "threshold = .05\n",
    "print(f\"{np.sum(nonnan_q < threshold)} significant regions \"\n",
    "      f\"controlling FDR at {threshold}\")\n",
    "\n",
    "# Threshold ISCs according FDR-controlled threshold\n",
    "nonnan_isc[nonnan_q >= threshold] = np.nan\n",
    "\n",
    "# Reinsert thresholded ISCs back into whole brain image\n",
    "isc_thresh = np.full(observed.shape, np.nan)\n",
    "isc_thresh[nonnan_coords] = nonnan_isc"
   ]
  },
  {
   "cell_type": "markdown",
   "metadata": {},
   "source": [
    "## Plotting the ISC Thresh Matrix"
   ]
  },
  {
   "cell_type": "markdown",
   "metadata": {},
   "source": [
    "This is where I fail. So, `isc_thresh` is an array with 278 entries (one ISC per ROI), nan indicate non-sig. ISC for that ROI:"
   ]
  },
  {
   "cell_type": "code",
   "execution_count": 17,
   "metadata": {},
   "outputs": [
    {
     "data": {
      "text/plain": [
       "array([        nan,  0.62789577, -0.3014645 ,  0.19048832,         nan,\n",
       "               nan,         nan,         nan,         nan, -0.19150871,\n",
       "               nan, -0.19820029,         nan,         nan,         nan,\n",
       "               nan,  0.19387527,         nan, -0.31091249,  0.35250017,\n",
       "               nan,  0.20443498,         nan,         nan, -0.17220649,\n",
       "        0.32660425,         nan,         nan,         nan,         nan,\n",
       "       -0.39465988,         nan,         nan,         nan,  0.27290788,\n",
       "               nan,         nan, -0.31001303, -0.15796107,  0.43484452,\n",
       "               nan,         nan,         nan,         nan, -0.34361568,\n",
       "               nan,         nan,         nan,         nan, -0.28844613,\n",
       "               nan, -0.30058375,         nan,         nan,         nan,\n",
       "               nan, -0.19591101,         nan, -0.26446593,  0.47895157,\n",
       "        0.2560499 ,         nan,  0.38350284,         nan,         nan,\n",
       "               nan,  0.32717958, -0.13854988,  0.30041862,         nan,\n",
       "               nan,         nan,  0.28587201,         nan,         nan,\n",
       "               nan, -0.24445976,         nan,         nan,         nan,\n",
       "               nan,         nan,  0.29777366, -0.17555054,         nan,\n",
       "               nan,  0.25524291,         nan,         nan,         nan,\n",
       "        0.17386927, -0.14049159, -0.36551067,         nan,         nan,\n",
       "        0.38839772,         nan,         nan,         nan,  0.34179097,\n",
       "       -0.14436632,         nan,         nan,         nan,         nan,\n",
       "               nan,  0.53288937,         nan, -0.20703557,         nan,\n",
       "        0.46173197,         nan,         nan,         nan,         nan,\n",
       "        0.26611292,         nan,         nan, -0.21792363,         nan,\n",
       "               nan,         nan,  0.09281898,  0.3240934 ,  0.41409752,\n",
       "       -0.11640055,         nan,         nan,         nan, -0.04823314,\n",
       "               nan,  0.33357489,         nan,         nan, -0.32347715,\n",
       "               nan,  0.29798239,         nan, -0.20480756,         nan,\n",
       "               nan,         nan,  0.32652673,         nan,         nan,\n",
       "               nan,  0.5156095 ,         nan, -0.43922228,  0.20180389,\n",
       "               nan,         nan, -0.09671997,         nan,         nan,\n",
       "               nan,         nan, -0.04972403,         nan,         nan,\n",
       "               nan,  0.26752254,         nan,         nan,         nan,\n",
       "        0.19012469,         nan,         nan,         nan,  0.23383982,\n",
       "        0.40809575, -0.50041288,         nan, -0.17649971,         nan,\n",
       "               nan,  0.39498967,  0.22831564, -0.65871972,         nan,\n",
       "        0.37223491,         nan,  0.35167158,         nan,         nan,\n",
       "               nan, -0.41340929,         nan, -0.3868683 ,  0.39183354,\n",
       "               nan,  0.60766   , -0.55828524,         nan,         nan,\n",
       "               nan,  0.25414488,  0.32936653,         nan, -0.14510655,\n",
       "       -0.38052213,         nan,         nan, -0.27698267,         nan,\n",
       "               nan, -0.23520862,         nan,         nan,         nan,\n",
       "               nan,         nan,  0.29553038,         nan,         nan,\n",
       "               nan,         nan,         nan,         nan,         nan,\n",
       "               nan,         nan,         nan, -0.25816029,         nan,\n",
       "               nan,         nan,  0.53213888,  0.24137338,         nan,\n",
       "               nan,  0.5684616 , -0.12460975,         nan,  0.35024679,\n",
       "        0.29162467,         nan,         nan,         nan, -0.23875743,\n",
       "               nan,         nan,  0.26577151,         nan,         nan,\n",
       "               nan,  0.69337517,  0.38422745,         nan,         nan,\n",
       "        0.280007  ,         nan, -0.5164836 ,  0.1059297 ,         nan,\n",
       "        0.46806082,  0.65394557,         nan, -0.52702504,         nan,\n",
       "               nan,         nan,         nan,         nan,         nan,\n",
       "               nan,  0.28647748,         nan,         nan,         nan,\n",
       "               nan,         nan, -0.26438344,         nan,         nan,\n",
       "               nan,         nan,         nan])"
      ]
     },
     "execution_count": 17,
     "metadata": {},
     "output_type": "execute_result"
    }
   ],
   "source": [
    "isc_thresh"
   ]
  },
  {
   "cell_type": "markdown",
   "metadata": {},
   "source": [
    "Now, how do I get these ISC values \"back\" into a coordinate space that I can plot them?\n",
    "\n",
    "In other words, how can I link these ISC to the corresponding ROIs?\n",
    "\n",
    "The ISC tutorial suggests to create an empty nifti and then populate that nifti with the ISC values, but here I am just lost."
   ]
  },
  {
   "cell_type": "code",
   "execution_count": 89,
   "metadata": {},
   "outputs": [],
   "source": [
    "# Something along those lines?\n",
    "# Load a NIfTI of the brain mask as a reference Nifti1Image\n",
    "shen_subspace = 'isc_shen.nii.gz' # shen_subspace is the shen atlas resampled to subject space \n",
    "\n",
    "ref_nii = nib.load(shen) \n",
    "\n",
    "# # Load masks using brainiak.io\n",
    "mask_img = load_boolean_mask(shen)\n",
    "\n",
    "# # Get coordinates of mask voxels in original image\n",
    "mask_coords = np.where(mask_img)"
   ]
  },
  {
   "cell_type": "code",
   "execution_count": 82,
   "metadata": {},
   "outputs": [
    {
     "data": {
      "text/plain": [
       "(91, 109, 91)"
      ]
     },
     "execution_count": 82,
     "metadata": {},
     "output_type": "execute_result"
    }
   ],
   "source": [
    "ref_nii.shape"
   ]
  },
  {
   "cell_type": "code",
   "execution_count": 90,
   "metadata": {},
   "outputs": [
    {
     "data": {
      "text/plain": [
       "160694"
      ]
     },
     "execution_count": 90,
     "metadata": {},
     "output_type": "execute_result"
    }
   ],
   "source": [
    "len(mask_coords[0])"
   ]
  },
  {
   "cell_type": "code",
   "execution_count": 23,
   "metadata": {},
   "outputs": [
    {
     "name": "stderr",
     "output_type": "stream",
     "text": [
      "/usr/local/anaconda3/envs/fmri/lib/python3.6/importlib/_bootstrap.py:219: ImportWarning: can't resolve package from __spec__ or __package__, falling back on __name__ and __path__\n",
      "  return f(*args, **kwds)\n"
     ]
    }
   ],
   "source": [
    "# I can also get the coordinates of the shen atlas:\n",
    "from nilearn.plotting import find_parcellation_cut_coords"
   ]
  },
  {
   "cell_type": "code",
   "execution_count": 26,
   "metadata": {},
   "outputs": [
    {
     "name": "stderr",
     "output_type": "stream",
     "text": [
      "/usr/local/anaconda3/envs/fmri/lib/python3.6/site-packages/nibabel/nifti1.py:582: DeprecationWarning: The binary mode of fromstring is deprecated, as it behaves surprisingly on unicode inputs. Use frombuffer instead\n",
      "  ext_def = np.fromstring(ext_def, dtype=np.int32)\n"
     ]
    }
   ],
   "source": [
    "shen_coords = find_parcellation_cut_coords(shen)"
   ]
  },
  {
   "cell_type": "markdown",
   "metadata": {},
   "source": [
    "For example, here are the coordinates for the first five ROIs:"
   ]
  },
  {
   "cell_type": "code",
   "execution_count": 44,
   "metadata": {},
   "outputs": [
    {
     "data": {
      "text/plain": [
       "array([[ 55.90664273,   6.35547576,  20.93716338],\n",
       "       [ 14.71041369,  29.40085592,  55.00142653],\n",
       "       [ 12.69565217,  58.71936759, -15.38735178],\n",
       "       [ 34.375     , -27.79166667,  62.90384615],\n",
       "       [ 59.31921824, -21.87296417,  32.01302932]])"
      ]
     },
     "execution_count": 44,
     "metadata": {},
     "output_type": "execute_result"
    }
   ],
   "source": [
    "shen_coords[:5]"
   ]
  },
  {
   "cell_type": "markdown",
   "metadata": {},
   "source": [
    "Here are the next steps according to the isc_tutorial:"
   ]
  },
  {
   "cell_type": "code",
   "execution_count": 92,
   "metadata": {},
   "outputs": [
    {
     "ename": "ValueError",
     "evalue": "shape mismatch: value array of shape (278,) could not be broadcast to indexing result of shape (160694,)",
     "output_type": "error",
     "traceback": [
      "\u001b[0;31m---------------------------------------------------------------------------\u001b[0m",
      "\u001b[0;31mValueError\u001b[0m                                Traceback (most recent call last)",
      "\u001b[0;32m<ipython-input-92-50c70b11d3c7>\u001b[0m in \u001b[0;36m<module>\u001b[0;34m\u001b[0m\n\u001b[1;32m      2\u001b[0m \u001b[0;31m# with thresholded ISC values\u001b[0m\u001b[0;34m\u001b[0m\u001b[0;34m\u001b[0m\u001b[0m\n\u001b[1;32m      3\u001b[0m \u001b[0misc_img\u001b[0m \u001b[0;34m=\u001b[0m \u001b[0mnp\u001b[0m\u001b[0;34m.\u001b[0m\u001b[0mfull\u001b[0m\u001b[0;34m(\u001b[0m\u001b[0mref_nii\u001b[0m\u001b[0;34m.\u001b[0m\u001b[0mshape\u001b[0m\u001b[0;34m,\u001b[0m \u001b[0mnp\u001b[0m\u001b[0;34m.\u001b[0m\u001b[0mnan\u001b[0m\u001b[0;34m)\u001b[0m\u001b[0;34m\u001b[0m\u001b[0m\n\u001b[0;32m----> 4\u001b[0;31m \u001b[0misc_img\u001b[0m\u001b[0;34m[\u001b[0m\u001b[0mmask_coords\u001b[0m\u001b[0;34m]\u001b[0m \u001b[0;34m=\u001b[0m \u001b[0misc_thresh\u001b[0m\u001b[0;34m\u001b[0m\u001b[0m\n\u001b[0m\u001b[1;32m      5\u001b[0m \u001b[0;34m\u001b[0m\u001b[0m\n\u001b[1;32m      6\u001b[0m \u001b[0;31m# # # Convert to NIfTI image\u001b[0m\u001b[0;34m\u001b[0m\u001b[0;34m\u001b[0m\u001b[0m\n",
      "\u001b[0;31mValueError\u001b[0m: shape mismatch: value array of shape (278,) could not be broadcast to indexing result of shape (160694,)"
     ]
    }
   ],
   "source": [
    "# Create empty 3D image and populate\n",
    "# with thresholded ISC values\n",
    "isc_img = np.full(ref_nii.shape, np.nan)\n",
    "isc_img[mask_coords] = isc_thresh\n",
    "\n",
    "# # # Convert to NIfTI image\n",
    "isc_nii = nib.Nifti1Image(isc_img, ref_nii.affine, ref_nii.header)"
   ]
  },
  {
   "cell_type": "code",
   "execution_count": 85,
   "metadata": {},
   "outputs": [],
   "source": [
    "from nilearn.plotting import plot_stat_map"
   ]
  },
  {
   "cell_type": "code",
   "execution_count": 86,
   "metadata": {},
   "outputs": [],
   "source": [
    "%matplotlib inline"
   ]
  },
  {
   "cell_type": "code",
   "execution_count": 87,
   "metadata": {},
   "outputs": [
    {
     "data": {
      "text/plain": [
       "<nilearn.plotting.displays.OrthoSlicer at 0x7f8d34deb128>"
      ]
     },
     "execution_count": 87,
     "metadata": {},
     "output_type": "execute_result"
    },
    {
     "data": {
      "image/png": "[encoded data removed]",
      "text/plain": [
       "<Figure size 525.6x187.2 with 5 Axes>"
      ]
     },
     "metadata": {},
     "output_type": "display_data"
    }
   ],
   "source": [
    "# Plot slices at coordinates -61, -20, 8\n",
    "plot_stat_map(\n",
    "    isc_nii,\n",
    "    cmap='RdYlBu_r',\n",
    "    vmax=.5,\n",
    "    cut_coords=(-61, -20, 8))"
   ]
  }
 ],
 "metadata": {
  "kernelspec": {
   "display_name": "Python 3",
   "language": "python",
   "name": "python3"
  },
  "language_info": {
   "codemirror_mode": {
    "name": "ipython",
    "version": 3
   },
   "file_extension": ".py",
   "mimetype": "text/x-python",
   "name": "python",
   "nbconvert_exporter": "python",
   "pygments_lexer": "ipython3",
   "version": "3.6.6"
  }
 },
 "nbformat": 4,
 "nbformat_minor": 2
}
